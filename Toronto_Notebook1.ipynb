{
 "cells": [
  {
   "cell_type": "code",
   "execution_count": 1,
   "id": "stainless-roulette",
   "metadata": {},
   "outputs": [],
   "source": [
    "# import the necessary libraries\n",
    "import pandas as pd\n",
    "import requests\n",
    "from bs4 import BeautifulSoup"
   ]
  },
  {
   "cell_type": "markdown",
   "id": "central-dragon",
   "metadata": {},
   "source": [
    "To build up on the sample code given, I'll traverse one row vertically, and then move on to the next column.\n",
    "\n",
    "Otherswise, the final data frame will only contain the postal codes from the first column of the table off the Wikipedia page."
   ]
  },
  {
   "cell_type": "code",
   "execution_count": 2,
   "id": "logical-arrival",
   "metadata": {},
   "outputs": [],
   "source": [
    "url = 'https://en.wikipedia.org/wiki/List_of_postal_codes_of_Canada:_M'\n",
    "presoup = requests.get(url).text\n",
    "soup = BeautifulSoup(presoup)\n",
    "\n",
    "table_contents = []\n",
    "table = soup.find('table')\n",
    "for row in table.findAll('tr'):\n",
    "    for col in row.findAll('td'):\n",
    "        cell = {}\n",
    "        if col.span.text == 'Not assigned':\n",
    "            pass\n",
    "        else:\n",
    "            cell['Postal Code'] = col.p.text[:3]\n",
    "            cell['Borough'] = col.p.span.text.split('(')[0]\n",
    "            cell['Neighborhood'] = (((((col.span.text).split('(')[1]).strip(')')).replace(' /',',')).replace(')',' ')).strip(' ')\n",
    "            table_contents.append(cell)"
   ]
  },
  {
   "cell_type": "code",
   "execution_count": 3,
   "id": "bottom-regulation",
   "metadata": {},
   "outputs": [],
   "source": [
    "# print(table_contents)\n",
    "df = pd.DataFrame(table_contents)\n",
    "\n",
    "df['Borough'] = df['Borough'].replace({'Downtown TorontoStn A PO Boxes25 The Esplanade':'Downtown Toronto Stn A',\n",
    "                                             'East TorontoBusiness reply mail Processing Centre969 Eastern':'East Toronto Business',\n",
    "                                             'EtobicokeNorthwest':'Etobicoke Northwest','East YorkEast Toronto':'East York/East Toronto',\n",
    "                                             'MississaugaCanada Post Gateway Processing Centre':'Mississauga'})"
   ]
  },
  {
   "cell_type": "code",
   "execution_count": 4,
   "id": "union-pencil",
   "metadata": {},
   "outputs": [
    {
     "data": {
      "text/plain": [
       "(103, 3)"
      ]
     },
     "execution_count": 4,
     "metadata": {},
     "output_type": "execute_result"
    }
   ],
   "source": [
    "df.shape"
   ]
  }
 ],
 "metadata": {
  "kernelspec": {
   "display_name": "Python 3",
   "language": "python",
   "name": "python3"
  },
  "language_info": {
   "codemirror_mode": {
    "name": "ipython",
    "version": 3
   },
   "file_extension": ".py",
   "mimetype": "text/x-python",
   "name": "python",
   "nbconvert_exporter": "python",
   "pygments_lexer": "ipython3",
   "version": "3.9.2"
  }
 },
 "nbformat": 4,
 "nbformat_minor": 5
}
